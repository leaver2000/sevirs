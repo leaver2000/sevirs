{
 "cells": [
  {
   "cell_type": "code",
   "execution_count": 1,
   "metadata": {},
   "outputs": [
    {
     "data": {
      "text/html": [
       "\n",
       "                <script type=\"application/javascript\" id=\"jupyter_black\">\n",
       "                (function() {\n",
       "                    if (window.IPython === undefined) {\n",
       "                        return\n",
       "                    }\n",
       "                    var msg = \"WARNING: it looks like you might have loaded \" +\n",
       "                        \"jupyter_black in a non-lab notebook with \" +\n",
       "                        \"`is_lab=True`. Please double check, and if \" +\n",
       "                        \"loading with `%load_ext` please review the README!\"\n",
       "                    console.log(msg)\n",
       "                    alert(msg)\n",
       "                })()\n",
       "                </script>\n",
       "                "
      ],
      "text/plain": [
       "<IPython.core.display.HTML object>"
      ]
     },
     "metadata": {},
     "output_type": "display_data"
    }
   ],
   "source": [
    "%load_ext autoreload\n",
    "%autoreload 2\n",
    "%load_ext jupyter_black"
   ]
  },
  {
   "cell_type": "code",
   "execution_count": 7,
   "metadata": {},
   "outputs": [
    {
     "name": "stdout",
     "output_type": "stream",
     "text": [
      "967 ms ± 73.6 ms per loop (mean ± std. dev. of 7 runs, 1 loop each)\n",
      "1.2 s ± 35.8 ms per loop (mean ± std. dev. of 7 runs, 1 loop each)\n"
     ]
    }
   ],
   "source": [
    "from __future__ import annotations\n",
    "import typing\n",
    "\n",
    "import pandas as pd\n",
    "import polars as pl\n",
    "from typing_extensions import Self\n",
    "import os\n",
    "import sevir as svr\n",
    "from sevir.constants import DEFAULT_PATH_TO_SEVIR, DEFAULT_CATALOG\n",
    "\n",
    "SEVIR_CATALOG = os.path.join(DEFAULT_PATH_TO_SEVIR, DEFAULT_CATALOG)\n",
    "assert os.path.exists(SEVIR_CATALOG)\n",
    "%timeit pl.read_csv(SEVIR_CATALOG, use_pyarrow=True)\n",
    "%timeit pd.read_csv(SEVIR_CATALOG, low_memory=False)"
   ]
  },
  {
   "cell_type": "markdown",
   "metadata": {},
   "source": [
    "# reading data with polars"
   ]
  },
  {
   "cell_type": "code",
   "execution_count": 8,
   "metadata": {},
   "outputs": [
    {
     "data": {
      "text/html": [
       "<div><style>\n",
       ".dataframe > thead > tr > th,\n",
       ".dataframe > tbody > tr > td {\n",
       "  text-align: right;\n",
       "}\n",
       "</style>\n",
       "<small>shape: (5, 21)</small><table border=\"1\" class=\"dataframe\"><thead><tr><th>id</th><th>file_name</th><th>file_index</th><th>img_type</th><th>time_utc</th><th>minute_offsets</th><th>episode_id</th><th>event_id</th><th>event_type</th><th>llcrnrlat</th><th>llcrnrlon</th><th>urcrnrlat</th><th>urcrnrlon</th><th>proj</th><th>size_x</th><th>size_y</th><th>height_m</th><th>width_m</th><th>data_min</th><th>data_max</th><th>pct_missing</th></tr><tr><td>str</td><td>str</td><td>i64</td><td>str</td><td>datetime[μs]</td><td>str</td><td>str</td><td>str</td><td>str</td><td>f64</td><td>f64</td><td>f64</td><td>f64</td><td>str</td><td>i64</td><td>i64</td><td>f64</td><td>f64</td><td>f64</td><td>f64</td><td>f64</td></tr></thead><tbody><tr><td>&quot;R1803250502768…</td><td>&quot;vis/2018/SEVIR…</td><td>0</td><td>&quot;vis&quot;</td><td>2018-03-25 05:00:00</td><td>&quot;-120:-115:-110…</td><td>null</td><td>null</td><td>null</td><td>33.216708</td><td>-91.635132</td><td>36.336627</td><td>-87.070254</td><td>&quot;+proj=laea +la…</td><td>768</td><td>768</td><td>384000.0</td><td>384000.0</td><td>-0.003361</td><td>0.0056</td><td>0.0</td></tr><tr><td>&quot;R1803250502767…</td><td>&quot;vis/2018/SEVIR…</td><td>1</td><td>&quot;vis&quot;</td><td>2018-03-25 05:00:00</td><td>&quot;-120:-115:-110…</td><td>null</td><td>null</td><td>null</td><td>33.084309</td><td>-91.849435</td><td>36.213723</td><td>-87.301535</td><td>&quot;+proj=laea +la…</td><td>768</td><td>768</td><td>384000.0</td><td>384000.0</td><td>-0.003361</td><td>0.0056</td><td>0.0</td></tr><tr><td>&quot;R1803250502772…</td><td>&quot;vis/2018/SEVIR…</td><td>2</td><td>&quot;vis&quot;</td><td>2018-03-25 05:00:00</td><td>&quot;-120:-115:-110…</td><td>null</td><td>null</td><td>null</td><td>46.661866</td><td>-123.509928</td><td>50.883159</td><td>-120.009277</td><td>&quot;+proj=laea +la…</td><td>768</td><td>768</td><td>384000.0</td><td>384000.0</td><td>-0.00287</td><td>0.005548</td><td>0.0</td></tr><tr><td>&quot;R1803251650824…</td><td>&quot;vis/2018/SEVIR…</td><td>3</td><td>&quot;vis&quot;</td><td>2018-03-25 16:50:00</td><td>&quot;-120:-115:-110…</td><td>null</td><td>null</td><td>null</td><td>40.883237</td><td>-85.350213</td><td>43.686191</td><td>-79.903987</td><td>&quot;+proj=laea +la…</td><td>768</td><td>768</td><td>384000.0</td><td>384000.0</td><td>0.029911</td><td>0.7856</td><td>0.0</td></tr><tr><td>&quot;R1803251650762…</td><td>&quot;vis/2018/SEVIR…</td><td>4</td><td>&quot;vis&quot;</td><td>2018-03-25 16:50:00</td><td>&quot;-120:-115:-110…</td><td>null</td><td>null</td><td>null</td><td>44.946047</td><td>-123.972935</td><td>49.169436</td><td>-120.575175</td><td>&quot;+proj=laea +la…</td><td>768</td><td>768</td><td>384000.0</td><td>384000.0</td><td>0.02856</td><td>0.79261</td><td>0.0</td></tr></tbody></table></div>"
      ],
      "text/plain": [
       "shape: (5, 21)\n",
       "┌────────────┬────────────┬───────────┬──────────┬───┬──────────┬───────────┬──────────┬───────────┐\n",
       "│ id         ┆ file_name  ┆ file_inde ┆ img_type ┆ … ┆ width_m  ┆ data_min  ┆ data_max ┆ pct_missi │\n",
       "│ ---        ┆ ---        ┆ x         ┆ ---      ┆   ┆ ---      ┆ ---       ┆ ---      ┆ ng        │\n",
       "│ str        ┆ str        ┆ ---       ┆ str      ┆   ┆ f64      ┆ f64       ┆ f64      ┆ ---       │\n",
       "│            ┆            ┆ i64       ┆          ┆   ┆          ┆           ┆          ┆ f64       │\n",
       "╞════════════╪════════════╪═══════════╪══════════╪═══╪══════════╪═══════════╪══════════╪═══════════╡\n",
       "│ R180325050 ┆ vis/2018/S ┆ 0         ┆ vis      ┆ … ┆ 384000.0 ┆ -0.003361 ┆ 0.0056   ┆ 0.0       │\n",
       "│ 27684      ┆ EVIR_VIS_R ┆           ┆          ┆   ┆          ┆           ┆          ┆           │\n",
       "│            ┆ ANDOMEVENT ┆           ┆          ┆   ┆          ┆           ┆          ┆           │\n",
       "│            ┆ S_…        ┆           ┆          ┆   ┆          ┆           ┆          ┆           │\n",
       "│ R180325050 ┆ vis/2018/S ┆ 1         ┆ vis      ┆ … ┆ 384000.0 ┆ -0.003361 ┆ 0.0056   ┆ 0.0       │\n",
       "│ 27677      ┆ EVIR_VIS_R ┆           ┆          ┆   ┆          ┆           ┆          ┆           │\n",
       "│            ┆ ANDOMEVENT ┆           ┆          ┆   ┆          ┆           ┆          ┆           │\n",
       "│            ┆ S_…        ┆           ┆          ┆   ┆          ┆           ┆          ┆           │\n",
       "│ R180325050 ┆ vis/2018/S ┆ 2         ┆ vis      ┆ … ┆ 384000.0 ┆ -0.00287  ┆ 0.005548 ┆ 0.0       │\n",
       "│ 27721      ┆ EVIR_VIS_R ┆           ┆          ┆   ┆          ┆           ┆          ┆           │\n",
       "│            ┆ ANDOMEVENT ┆           ┆          ┆   ┆          ┆           ┆          ┆           │\n",
       "│            ┆ S_…        ┆           ┆          ┆   ┆          ┆           ┆          ┆           │\n",
       "│ R180325165 ┆ vis/2018/S ┆ 3         ┆ vis      ┆ … ┆ 384000.0 ┆ 0.029911  ┆ 0.7856   ┆ 0.0       │\n",
       "│ 08249      ┆ EVIR_VIS_R ┆           ┆          ┆   ┆          ┆           ┆          ┆           │\n",
       "│            ┆ ANDOMEVENT ┆           ┆          ┆   ┆          ┆           ┆          ┆           │\n",
       "│            ┆ S_…        ┆           ┆          ┆   ┆          ┆           ┆          ┆           │\n",
       "│ R180325165 ┆ vis/2018/S ┆ 4         ┆ vis      ┆ … ┆ 384000.0 ┆ 0.02856   ┆ 0.79261  ┆ 0.0       │\n",
       "│ 07621      ┆ EVIR_VIS_R ┆           ┆          ┆   ┆          ┆           ┆          ┆           │\n",
       "│            ┆ ANDOMEVENT ┆           ┆          ┆   ┆          ┆           ┆          ┆           │\n",
       "│            ┆ S_…        ┆           ┆          ┆   ┆          ┆           ┆          ┆           │\n",
       "└────────────┴────────────┴───────────┴──────────┴───┴──────────┴───────────┴──────────┴───────────┘"
      ]
     },
     "execution_count": 8,
     "metadata": {},
     "output_type": "execute_result"
    }
   ],
   "source": [
    "df = pl.read_csv(\n",
    "    SEVIR_CATALOG,\n",
    "    dtypes={\n",
    "        svr.ID: pl.Utf8,\n",
    "        svr.FILE_NAME: pl.Utf8,\n",
    "        svr.IMG_TYPE: pl.Utf8,\n",
    "        svr.TIME_UTC: pl.Datetime,\n",
    "    },\n",
    "    use_pyarrow=True,\n",
    ")\n",
    "df.head()"
   ]
  },
  {
   "cell_type": "markdown",
   "metadata": {},
   "source": [
    "# Filtering unwanted rows"
   ]
  },
  {
   "cell_type": "code",
   "execution_count": 9,
   "metadata": {},
   "outputs": [
    {
     "data": {
      "text/html": [
       "<div><style>\n",
       ".dataframe > thead > tr > th,\n",
       ".dataframe > tbody > tr > td {\n",
       "  text-align: right;\n",
       "}\n",
       "</style>\n",
       "<small>shape: (5, 21)</small><table border=\"1\" class=\"dataframe\"><thead><tr><th>id</th><th>file_name</th><th>file_index</th><th>img_type</th><th>time_utc</th><th>minute_offsets</th><th>episode_id</th><th>event_id</th><th>event_type</th><th>llcrnrlat</th><th>llcrnrlon</th><th>urcrnrlat</th><th>urcrnrlon</th><th>proj</th><th>size_x</th><th>size_y</th><th>height_m</th><th>width_m</th><th>data_min</th><th>data_max</th><th>pct_missing</th></tr><tr><td>str</td><td>str</td><td>i64</td><td>str</td><td>datetime[μs]</td><td>str</td><td>str</td><td>str</td><td>str</td><td>f64</td><td>f64</td><td>f64</td><td>f64</td><td>str</td><td>i64</td><td>i64</td><td>f64</td><td>f64</td><td>f64</td><td>f64</td><td>f64</td></tr></thead><tbody><tr><td>&quot;R1803250502768…</td><td>&quot;vis/2018/SEVIR…</td><td>0</td><td>&quot;vis&quot;</td><td>2018-03-25 05:00:00</td><td>&quot;-120:-115:-110…</td><td>null</td><td>null</td><td>null</td><td>33.216708</td><td>-91.635132</td><td>36.336627</td><td>-87.070254</td><td>&quot;+proj=laea +la…</td><td>768</td><td>768</td><td>384000.0</td><td>384000.0</td><td>-0.003361</td><td>0.0056</td><td>0.0</td></tr><tr><td>&quot;R1803250502767…</td><td>&quot;vis/2018/SEVIR…</td><td>1</td><td>&quot;vis&quot;</td><td>2018-03-25 05:00:00</td><td>&quot;-120:-115:-110…</td><td>null</td><td>null</td><td>null</td><td>33.084309</td><td>-91.849435</td><td>36.213723</td><td>-87.301535</td><td>&quot;+proj=laea +la…</td><td>768</td><td>768</td><td>384000.0</td><td>384000.0</td><td>-0.003361</td><td>0.0056</td><td>0.0</td></tr><tr><td>&quot;R1803250502772…</td><td>&quot;vis/2018/SEVIR…</td><td>2</td><td>&quot;vis&quot;</td><td>2018-03-25 05:00:00</td><td>&quot;-120:-115:-110…</td><td>null</td><td>null</td><td>null</td><td>46.661866</td><td>-123.509928</td><td>50.883159</td><td>-120.009277</td><td>&quot;+proj=laea +la…</td><td>768</td><td>768</td><td>384000.0</td><td>384000.0</td><td>-0.00287</td><td>0.005548</td><td>0.0</td></tr><tr><td>&quot;R1803251650824…</td><td>&quot;vis/2018/SEVIR…</td><td>3</td><td>&quot;vis&quot;</td><td>2018-03-25 16:50:00</td><td>&quot;-120:-115:-110…</td><td>null</td><td>null</td><td>null</td><td>40.883237</td><td>-85.350213</td><td>43.686191</td><td>-79.903987</td><td>&quot;+proj=laea +la…</td><td>768</td><td>768</td><td>384000.0</td><td>384000.0</td><td>0.029911</td><td>0.7856</td><td>0.0</td></tr><tr><td>&quot;R1803251650762…</td><td>&quot;vis/2018/SEVIR…</td><td>4</td><td>&quot;vis&quot;</td><td>2018-03-25 16:50:00</td><td>&quot;-120:-115:-110…</td><td>null</td><td>null</td><td>null</td><td>44.946047</td><td>-123.972935</td><td>49.169436</td><td>-120.575175</td><td>&quot;+proj=laea +la…</td><td>768</td><td>768</td><td>384000.0</td><td>384000.0</td><td>0.02856</td><td>0.79261</td><td>0.0</td></tr></tbody></table></div>"
      ],
      "text/plain": [
       "shape: (5, 21)\n",
       "┌────────────┬────────────┬───────────┬──────────┬───┬──────────┬───────────┬──────────┬───────────┐\n",
       "│ id         ┆ file_name  ┆ file_inde ┆ img_type ┆ … ┆ width_m  ┆ data_min  ┆ data_max ┆ pct_missi │\n",
       "│ ---        ┆ ---        ┆ x         ┆ ---      ┆   ┆ ---      ┆ ---       ┆ ---      ┆ ng        │\n",
       "│ str        ┆ str        ┆ ---       ┆ str      ┆   ┆ f64      ┆ f64       ┆ f64      ┆ ---       │\n",
       "│            ┆            ┆ i64       ┆          ┆   ┆          ┆           ┆          ┆ f64       │\n",
       "╞════════════╪════════════╪═══════════╪══════════╪═══╪══════════╪═══════════╪══════════╪═══════════╡\n",
       "│ R180325050 ┆ vis/2018/S ┆ 0         ┆ vis      ┆ … ┆ 384000.0 ┆ -0.003361 ┆ 0.0056   ┆ 0.0       │\n",
       "│ 27684      ┆ EVIR_VIS_R ┆           ┆          ┆   ┆          ┆           ┆          ┆           │\n",
       "│            ┆ ANDOMEVENT ┆           ┆          ┆   ┆          ┆           ┆          ┆           │\n",
       "│            ┆ S_…        ┆           ┆          ┆   ┆          ┆           ┆          ┆           │\n",
       "│ R180325050 ┆ vis/2018/S ┆ 1         ┆ vis      ┆ … ┆ 384000.0 ┆ -0.003361 ┆ 0.0056   ┆ 0.0       │\n",
       "│ 27677      ┆ EVIR_VIS_R ┆           ┆          ┆   ┆          ┆           ┆          ┆           │\n",
       "│            ┆ ANDOMEVENT ┆           ┆          ┆   ┆          ┆           ┆          ┆           │\n",
       "│            ┆ S_…        ┆           ┆          ┆   ┆          ┆           ┆          ┆           │\n",
       "│ R180325050 ┆ vis/2018/S ┆ 2         ┆ vis      ┆ … ┆ 384000.0 ┆ -0.00287  ┆ 0.005548 ┆ 0.0       │\n",
       "│ 27721      ┆ EVIR_VIS_R ┆           ┆          ┆   ┆          ┆           ┆          ┆           │\n",
       "│            ┆ ANDOMEVENT ┆           ┆          ┆   ┆          ┆           ┆          ┆           │\n",
       "│            ┆ S_…        ┆           ┆          ┆   ┆          ┆           ┆          ┆           │\n",
       "│ R180325165 ┆ vis/2018/S ┆ 3         ┆ vis      ┆ … ┆ 384000.0 ┆ 0.029911  ┆ 0.7856   ┆ 0.0       │\n",
       "│ 08249      ┆ EVIR_VIS_R ┆           ┆          ┆   ┆          ┆           ┆          ┆           │\n",
       "│            ┆ ANDOMEVENT ┆           ┆          ┆   ┆          ┆           ┆          ┆           │\n",
       "│            ┆ S_…        ┆           ┆          ┆   ┆          ┆           ┆          ┆           │\n",
       "│ R180325165 ┆ vis/2018/S ┆ 4         ┆ vis      ┆ … ┆ 384000.0 ┆ 0.02856   ┆ 0.79261  ┆ 0.0       │\n",
       "│ 07621      ┆ EVIR_VIS_R ┆           ┆          ┆   ┆          ┆           ┆          ┆           │\n",
       "│            ┆ ANDOMEVENT ┆           ┆          ┆   ┆          ┆           ┆          ┆           │\n",
       "│            ┆ S_…        ┆           ┆          ┆   ┆          ┆           ┆          ┆           │\n",
       "└────────────┴────────────┴───────────┴──────────┴───┴──────────┴───────────┴──────────┴───────────┘"
      ]
     },
     "execution_count": 9,
     "metadata": {},
     "output_type": "execute_result"
    }
   ],
   "source": [
    "img_types = [\"vis\", \"ir069\"]\n",
    "df = df.filter(df[svr.IMG_TYPE].is_in(img_types))\n",
    "assert df[svr.IMG_TYPE].n_unique() == len(set(img_types))\n",
    "count = df.groupby(svr.ID).count()\n",
    "f_ids = count.filter(count[\"count\"] >= len(img_types))[svr.ID]\n",
    "df = df.filter(df[svr.ID].is_in(f_ids))\n",
    "df.head()"
   ]
  }
 ],
 "metadata": {
  "kernelspec": {
   "display_name": ".venv",
   "language": "python",
   "name": "python3"
  },
  "language_info": {
   "codemirror_mode": {
    "name": "ipython",
    "version": 3
   },
   "file_extension": ".py",
   "mimetype": "text/x-python",
   "name": "python",
   "nbconvert_exporter": "python",
   "pygments_lexer": "ipython3",
   "version": "3.10.6"
  },
  "orig_nbformat": 4
 },
 "nbformat": 4,
 "nbformat_minor": 2
}
