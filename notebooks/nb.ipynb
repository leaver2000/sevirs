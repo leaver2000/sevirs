{
 "cells": [
  {
   "cell_type": "code",
   "execution_count": 1,
   "metadata": {},
   "outputs": [
    {
     "data": {
      "text/html": [
       "\n",
       "                <script type=\"application/javascript\" id=\"jupyter_black\">\n",
       "                (function() {\n",
       "                    if (window.IPython === undefined) {\n",
       "                        return\n",
       "                    }\n",
       "                    var msg = \"WARNING: it looks like you might have loaded \" +\n",
       "                        \"jupyter_black in a non-lab notebook with \" +\n",
       "                        \"`is_lab=True`. Please double check, and if \" +\n",
       "                        \"loading with `%load_ext` please review the README!\"\n",
       "                    console.log(msg)\n",
       "                    alert(msg)\n",
       "                })()\n",
       "                </script>\n",
       "                "
      ],
      "text/plain": [
       "<IPython.core.display.HTML object>"
      ]
     },
     "metadata": {},
     "output_type": "display_data"
    }
   ],
   "source": [
    "%load_ext autoreload\n",
    "%autoreload 2\n",
    "%load_ext jupyter_black"
   ]
  },
  {
   "cell_type": "markdown",
   "metadata": {},
   "source": [
    "By default the application assumes that the catalog is collocated with the data as shown below.  Assuming that is the\n",
    "case an environment variable can be set and the application will find the data.\n",
    "\n",
    "```bash\n",
    "ls /mnt/nuc/c/sevir/\n",
    "CATALOG.csv  data\n",
    "```"
   ]
  },
  {
   "cell_type": "code",
   "execution_count": 2,
   "metadata": {},
   "outputs": [],
   "source": [
    "import os\n",
    "\n",
    "os.environ[\"PATH_TO_SEVIR\"] = \"/mnt/nuc/c/sevir\"  # you can set the default path via an environment variable"
   ]
  },
  {
   "cell_type": "code",
   "execution_count": 17,
   "metadata": {},
   "outputs": [
    {
     "data": {
      "text/html": [
       "<div><style>\n",
       ".dataframe > thead > tr > th,\n",
       ".dataframe > tbody > tr > td {\n",
       "  text-align: right;\n",
       "}\n",
       "</style>\n",
       "<small>shape: (5, 21)</small><table border=\"1\" class=\"dataframe\"><thead><tr><th>id</th><th>file_name</th><th>file_index</th><th>img_type</th><th>time_utc</th><th>minute_offsets</th><th>episode_id</th><th>event_id</th><th>event_type</th><th>llcrnrlat</th><th>llcrnrlon</th><th>urcrnrlat</th><th>urcrnrlon</th><th>proj</th><th>size_x</th><th>size_y</th><th>height_m</th><th>width_m</th><th>data_min</th><th>data_max</th><th>pct_missing</th></tr><tr><td>str</td><td>str</td><td>i64</td><td>str</td><td>datetime[μs]</td><td>str</td><td>f64</td><td>f64</td><td>str</td><td>f64</td><td>f64</td><td>f64</td><td>f64</td><td>str</td><td>i64</td><td>i64</td><td>f64</td><td>f64</td><td>f64</td><td>f64</td><td>f64</td></tr></thead><tbody><tr><td>&quot;R1803250502768…</td><td>&quot;/mnt/nuc/c/sev…</td><td>0</td><td>&quot;vis&quot;</td><td>2018-03-25 05:00:00</td><td>&quot;-120:-115:-110…</td><td>null</td><td>null</td><td>null</td><td>33.216708</td><td>-91.635132</td><td>36.336627</td><td>-87.070254</td><td>&quot;+proj=laea +la…</td><td>768</td><td>768</td><td>384000.0</td><td>384000.0</td><td>-0.003361</td><td>0.0056</td><td>0.0</td></tr><tr><td>&quot;R1803250502767…</td><td>&quot;/mnt/nuc/c/sev…</td><td>1</td><td>&quot;vis&quot;</td><td>2018-03-25 05:00:00</td><td>&quot;-120:-115:-110…</td><td>null</td><td>null</td><td>null</td><td>33.084309</td><td>-91.849435</td><td>36.213723</td><td>-87.301535</td><td>&quot;+proj=laea +la…</td><td>768</td><td>768</td><td>384000.0</td><td>384000.0</td><td>-0.003361</td><td>0.0056</td><td>0.0</td></tr><tr><td>&quot;R1803250502772…</td><td>&quot;/mnt/nuc/c/sev…</td><td>2</td><td>&quot;vis&quot;</td><td>2018-03-25 05:00:00</td><td>&quot;-120:-115:-110…</td><td>null</td><td>null</td><td>null</td><td>46.661866</td><td>-123.509928</td><td>50.883159</td><td>-120.009277</td><td>&quot;+proj=laea +la…</td><td>768</td><td>768</td><td>384000.0</td><td>384000.0</td><td>-0.00287</td><td>0.005548</td><td>0.0</td></tr><tr><td>&quot;R1803251650824…</td><td>&quot;/mnt/nuc/c/sev…</td><td>3</td><td>&quot;vis&quot;</td><td>2018-03-25 16:50:00</td><td>&quot;-120:-115:-110…</td><td>null</td><td>null</td><td>null</td><td>40.883237</td><td>-85.350213</td><td>43.686191</td><td>-79.903987</td><td>&quot;+proj=laea +la…</td><td>768</td><td>768</td><td>384000.0</td><td>384000.0</td><td>0.029911</td><td>0.7856</td><td>0.0</td></tr><tr><td>&quot;R1803251650762…</td><td>&quot;/mnt/nuc/c/sev…</td><td>4</td><td>&quot;vis&quot;</td><td>2018-03-25 16:50:00</td><td>&quot;-120:-115:-110…</td><td>null</td><td>null</td><td>null</td><td>44.946047</td><td>-123.972935</td><td>49.169436</td><td>-120.575175</td><td>&quot;+proj=laea +la…</td><td>768</td><td>768</td><td>384000.0</td><td>384000.0</td><td>0.02856</td><td>0.79261</td><td>0.0</td></tr></tbody></table></div>"
      ],
      "text/plain": [
       "shape: (5, 21)\n",
       "┌────────────┬────────────┬───────────┬──────────┬───┬──────────┬───────────┬──────────┬───────────┐\n",
       "│ id         ┆ file_name  ┆ file_inde ┆ img_type ┆ … ┆ width_m  ┆ data_min  ┆ data_max ┆ pct_missi │\n",
       "│ ---        ┆ ---        ┆ x         ┆ ---      ┆   ┆ ---      ┆ ---       ┆ ---      ┆ ng        │\n",
       "│ str        ┆ str        ┆ ---       ┆ str      ┆   ┆ f64      ┆ f64       ┆ f64      ┆ ---       │\n",
       "│            ┆            ┆ i64       ┆          ┆   ┆          ┆           ┆          ┆ f64       │\n",
       "╞════════════╪════════════╪═══════════╪══════════╪═══╪══════════╪═══════════╪══════════╪═══════════╡\n",
       "│ R180325050 ┆ /mnt/nuc/c ┆ 0         ┆ vis      ┆ … ┆ 384000.0 ┆ -0.003361 ┆ 0.0056   ┆ 0.0       │\n",
       "│ 27684      ┆ /sevir/dat ┆           ┆          ┆   ┆          ┆           ┆          ┆           │\n",
       "│            ┆ a/vis/2018 ┆           ┆          ┆   ┆          ┆           ┆          ┆           │\n",
       "│            ┆ /S…        ┆           ┆          ┆   ┆          ┆           ┆          ┆           │\n",
       "│ R180325050 ┆ /mnt/nuc/c ┆ 1         ┆ vis      ┆ … ┆ 384000.0 ┆ -0.003361 ┆ 0.0056   ┆ 0.0       │\n",
       "│ 27677      ┆ /sevir/dat ┆           ┆          ┆   ┆          ┆           ┆          ┆           │\n",
       "│            ┆ a/vis/2018 ┆           ┆          ┆   ┆          ┆           ┆          ┆           │\n",
       "│            ┆ /S…        ┆           ┆          ┆   ┆          ┆           ┆          ┆           │\n",
       "│ R180325050 ┆ /mnt/nuc/c ┆ 2         ┆ vis      ┆ … ┆ 384000.0 ┆ -0.00287  ┆ 0.005548 ┆ 0.0       │\n",
       "│ 27721      ┆ /sevir/dat ┆           ┆          ┆   ┆          ┆           ┆          ┆           │\n",
       "│            ┆ a/vis/2018 ┆           ┆          ┆   ┆          ┆           ┆          ┆           │\n",
       "│            ┆ /S…        ┆           ┆          ┆   ┆          ┆           ┆          ┆           │\n",
       "│ R180325165 ┆ /mnt/nuc/c ┆ 3         ┆ vis      ┆ … ┆ 384000.0 ┆ 0.029911  ┆ 0.7856   ┆ 0.0       │\n",
       "│ 08249      ┆ /sevir/dat ┆           ┆          ┆   ┆          ┆           ┆          ┆           │\n",
       "│            ┆ a/vis/2018 ┆           ┆          ┆   ┆          ┆           ┆          ┆           │\n",
       "│            ┆ /S…        ┆           ┆          ┆   ┆          ┆           ┆          ┆           │\n",
       "│ R180325165 ┆ /mnt/nuc/c ┆ 4         ┆ vis      ┆ … ┆ 384000.0 ┆ 0.02856   ┆ 0.79261  ┆ 0.0       │\n",
       "│ 07621      ┆ /sevir/dat ┆           ┆          ┆   ┆          ┆           ┆          ┆           │\n",
       "│            ┆ a/vis/2018 ┆           ┆          ┆   ┆          ┆           ┆          ┆           │\n",
       "│            ┆ /S…        ┆           ┆          ┆   ┆          ┆           ┆          ┆           │\n",
       "└────────────┴────────────┴───────────┴──────────┴───┴──────────┴───────────┴──────────┴───────────┘"
      ]
     },
     "execution_count": 17,
     "metadata": {},
     "output_type": "execute_result"
    }
   ],
   "source": [
    "import sevir\n",
    "\n",
    "cat = sevir.Catalog(img_types={sevir.VIS, sevir.IR_069})\n",
    "cat.data.head()"
   ]
  },
  {
   "cell_type": "markdown",
   "metadata": {},
   "source": [
    "Once the catalog is created it can be passed to the H5Store to open all of the files."
   ]
  },
  {
   "cell_type": "code",
   "execution_count": 4,
   "metadata": {},
   "outputs": [
    {
     "name": "stderr",
     "output_type": "stream",
     "text": [
      "INFO:root:Loading 91 files with 2 image types.\n",
      "100%|██████████| 91/91 [00:00<00:00, 93.11it/s]\n"
     ]
    }
   ],
   "source": [
    "h5 = sevir.H5Store(cat)"
   ]
  },
  {
   "cell_type": "code",
   "execution_count": 5,
   "metadata": {},
   "outputs": [
    {
     "data": {
      "text/html": [
       "<div><style>\n",
       ".dataframe > thead > tr > th,\n",
       ".dataframe > tbody > tr > td {\n",
       "  text-align: right;\n",
       "}\n",
       "</style>\n",
       "<small>shape: (5, 22)</small><table border=\"1\" class=\"dataframe\"><thead><tr><th>id</th><th>file_name</th><th>file_index</th><th>img_type</th><th>time_utc</th><th>minute_offsets</th><th>episode_id</th><th>event_id</th><th>event_type</th><th>llcrnrlat</th><th>llcrnrlon</th><th>urcrnrlat</th><th>urcrnrlon</th><th>proj</th><th>size_x</th><th>size_y</th><th>height_m</th><th>width_m</th><th>data_min</th><th>data_max</th><th>pct_missing</th><th>data_index</th></tr><tr><td>str</td><td>str</td><td>i64</td><td>str</td><td>datetime[μs]</td><td>str</td><td>f64</td><td>f64</td><td>str</td><td>f64</td><td>f64</td><td>f64</td><td>f64</td><td>str</td><td>i64</td><td>i64</td><td>f64</td><td>f64</td><td>f64</td><td>f64</td><td>f64</td><td>i32</td></tr></thead><tbody><tr><td>&quot;R1803250502768…</td><td>&quot;/mnt/nuc/c/sev…</td><td>0</td><td>&quot;vis&quot;</td><td>2018-03-25 05:00:00</td><td>&quot;-120:-115:-110…</td><td>null</td><td>null</td><td>null</td><td>33.216708</td><td>-91.635132</td><td>36.336627</td><td>-87.070254</td><td>&quot;+proj=laea +la…</td><td>768</td><td>768</td><td>384000.0</td><td>384000.0</td><td>-0.003361</td><td>0.0056</td><td>0.0</td><td>69</td></tr><tr><td>&quot;R1803250502767…</td><td>&quot;/mnt/nuc/c/sev…</td><td>1</td><td>&quot;vis&quot;</td><td>2018-03-25 05:00:00</td><td>&quot;-120:-115:-110…</td><td>null</td><td>null</td><td>null</td><td>33.084309</td><td>-91.849435</td><td>36.213723</td><td>-87.301535</td><td>&quot;+proj=laea +la…</td><td>768</td><td>768</td><td>384000.0</td><td>384000.0</td><td>-0.003361</td><td>0.0056</td><td>0.0</td><td>69</td></tr><tr><td>&quot;R1803250502772…</td><td>&quot;/mnt/nuc/c/sev…</td><td>2</td><td>&quot;vis&quot;</td><td>2018-03-25 05:00:00</td><td>&quot;-120:-115:-110…</td><td>null</td><td>null</td><td>null</td><td>46.661866</td><td>-123.509928</td><td>50.883159</td><td>-120.009277</td><td>&quot;+proj=laea +la…</td><td>768</td><td>768</td><td>384000.0</td><td>384000.0</td><td>-0.00287</td><td>0.005548</td><td>0.0</td><td>69</td></tr><tr><td>&quot;R1803251650824…</td><td>&quot;/mnt/nuc/c/sev…</td><td>3</td><td>&quot;vis&quot;</td><td>2018-03-25 16:50:00</td><td>&quot;-120:-115:-110…</td><td>null</td><td>null</td><td>null</td><td>40.883237</td><td>-85.350213</td><td>43.686191</td><td>-79.903987</td><td>&quot;+proj=laea +la…</td><td>768</td><td>768</td><td>384000.0</td><td>384000.0</td><td>0.029911</td><td>0.7856</td><td>0.0</td><td>69</td></tr><tr><td>&quot;R1803251650762…</td><td>&quot;/mnt/nuc/c/sev…</td><td>4</td><td>&quot;vis&quot;</td><td>2018-03-25 16:50:00</td><td>&quot;-120:-115:-110…</td><td>null</td><td>null</td><td>null</td><td>44.946047</td><td>-123.972935</td><td>49.169436</td><td>-120.575175</td><td>&quot;+proj=laea +la…</td><td>768</td><td>768</td><td>384000.0</td><td>384000.0</td><td>0.02856</td><td>0.79261</td><td>0.0</td><td>69</td></tr></tbody></table></div>"
      ],
      "text/plain": [
       "shape: (5, 22)\n",
       "┌────────────┬───────────┬───────────┬──────────┬───┬───────────┬──────────┬───────────┬───────────┐\n",
       "│ id         ┆ file_name ┆ file_inde ┆ img_type ┆ … ┆ data_min  ┆ data_max ┆ pct_missi ┆ data_inde │\n",
       "│ ---        ┆ ---       ┆ x         ┆ ---      ┆   ┆ ---       ┆ ---      ┆ ng        ┆ x         │\n",
       "│ str        ┆ str       ┆ ---       ┆ str      ┆   ┆ f64       ┆ f64      ┆ ---       ┆ ---       │\n",
       "│            ┆           ┆ i64       ┆          ┆   ┆           ┆          ┆ f64       ┆ i32       │\n",
       "╞════════════╪═══════════╪═══════════╪══════════╪═══╪═══════════╪══════════╪═══════════╪═══════════╡\n",
       "│ R180325050 ┆ /mnt/nuc/ ┆ 0         ┆ vis      ┆ … ┆ -0.003361 ┆ 0.0056   ┆ 0.0       ┆ 69        │\n",
       "│ 27684      ┆ c/sevir/d ┆           ┆          ┆   ┆           ┆          ┆           ┆           │\n",
       "│            ┆ ata/vis/2 ┆           ┆          ┆   ┆           ┆          ┆           ┆           │\n",
       "│            ┆ 018/S…    ┆           ┆          ┆   ┆           ┆          ┆           ┆           │\n",
       "│ R180325050 ┆ /mnt/nuc/ ┆ 1         ┆ vis      ┆ … ┆ -0.003361 ┆ 0.0056   ┆ 0.0       ┆ 69        │\n",
       "│ 27677      ┆ c/sevir/d ┆           ┆          ┆   ┆           ┆          ┆           ┆           │\n",
       "│            ┆ ata/vis/2 ┆           ┆          ┆   ┆           ┆          ┆           ┆           │\n",
       "│            ┆ 018/S…    ┆           ┆          ┆   ┆           ┆          ┆           ┆           │\n",
       "│ R180325050 ┆ /mnt/nuc/ ┆ 2         ┆ vis      ┆ … ┆ -0.00287  ┆ 0.005548 ┆ 0.0       ┆ 69        │\n",
       "│ 27721      ┆ c/sevir/d ┆           ┆          ┆   ┆           ┆          ┆           ┆           │\n",
       "│            ┆ ata/vis/2 ┆           ┆          ┆   ┆           ┆          ┆           ┆           │\n",
       "│            ┆ 018/S…    ┆           ┆          ┆   ┆           ┆          ┆           ┆           │\n",
       "│ R180325165 ┆ /mnt/nuc/ ┆ 3         ┆ vis      ┆ … ┆ 0.029911  ┆ 0.7856   ┆ 0.0       ┆ 69        │\n",
       "│ 08249      ┆ c/sevir/d ┆           ┆          ┆   ┆           ┆          ┆           ┆           │\n",
       "│            ┆ ata/vis/2 ┆           ┆          ┆   ┆           ┆          ┆           ┆           │\n",
       "│            ┆ 018/S…    ┆           ┆          ┆   ┆           ┆          ┆           ┆           │\n",
       "│ R180325165 ┆ /mnt/nuc/ ┆ 4         ┆ vis      ┆ … ┆ 0.02856   ┆ 0.79261  ┆ 0.0       ┆ 69        │\n",
       "│ 07621      ┆ c/sevir/d ┆           ┆          ┆   ┆           ┆          ┆           ┆           │\n",
       "│            ┆ ata/vis/2 ┆           ┆          ┆   ┆           ┆          ┆           ┆           │\n",
       "│            ┆ 018/S…    ┆           ┆          ┆   ┆           ┆          ┆           ┆           │\n",
       "└────────────┴───────────┴───────────┴──────────┴───┴───────────┴──────────┴───────────┴───────────┘"
      ]
     },
     "execution_count": 5,
     "metadata": {},
     "output_type": "execute_result"
    }
   ],
   "source": [
    "# the index is a polars dataframe that contains the metadata for the h5 files.\n",
    "h5.index.head()"
   ]
  },
  {
   "cell_type": "code",
   "execution_count": 9,
   "metadata": {},
   "outputs": [
    {
     "name": "stdout",
     "output_type": "stream",
     "text": [
      "random id: R19092713297600\n",
      "vis: (1, 768, 768, 49), vil: (1, 192, 192, 49)\n"
     ]
    }
   ],
   "source": [
    "import random\n",
    "\n",
    "id_ = random.choice(h5.index[sevir.ID])\n",
    "print(f\"random id: {id_}\")\n",
    "# because the h5 store was initialized with a catalog containing 2 image types, they are both spit out\n",
    "vis, vil = h5.__getitem__(id_)\n",
    "print(f\"vis: {vis.shape}, vil: {vil.shape}\")"
   ]
  },
  {
   "cell_type": "code",
   "execution_count": 12,
   "metadata": {},
   "outputs": [
    {
     "name": "stdout",
     "output_type": "stream",
     "text": [
      "vis: (1, 768, 768, 49)\n"
     ]
    }
   ],
   "source": [
    "import numpy as np\n",
    "\n",
    "# advanced indexing is supported where a tuple with and id_ and a list of image types cand be passed\n",
    "# h5[id_, [sevir.VIS, sevir.VIL]] is equivalent to h5[id_]\n",
    "(vis2,) = h5.__getitem__((id_, [sevir.VIS]))\n",
    "assert np.allclose(vis, vis2)\n",
    "print(f\"vis: {vis2.shape}\")"
   ]
  },
  {
   "cell_type": "code",
   "execution_count": 13,
   "metadata": {},
   "outputs": [
    {
     "name": "stdout",
     "output_type": "stream",
     "text": [
      "91\n",
      "0\n"
     ]
    }
   ],
   "source": [
    "# when you're done, close the h5 store\n",
    "print(len(h5))\n",
    "h5.close_all()\n",
    "print(len(h5))"
   ]
  },
  {
   "cell_type": "code",
   "execution_count": 16,
   "metadata": {},
   "outputs": [
    {
     "name": "stderr",
     "output_type": "stream",
     "text": [
      "INFO:root:Loading 30 files with 3 image types.\n",
      "100%|██████████| 30/30 [00:00<00:00, 91.03it/s]\n",
      "  0%|          | 1/12896 [00:00<1:32:54,  2.31it/s]"
     ]
    },
    {
     "name": "stdout",
     "output_type": "stream",
     "text": [
      "torch.Size([2, 1, 192, 192, 49]) torch.Size([1, 1, 384, 384, 49])\n",
      "shape: (3, 21)\n",
      "┌─────────┬────────────┬────────────┬──────────┬───┬──────────┬────────────┬───────────┬───────────┐\n",
      "│ id      ┆ file_name  ┆ file_index ┆ img_type ┆ … ┆ width_m  ┆ data_min   ┆ data_max  ┆ pct_missi │\n",
      "│ ---     ┆ ---        ┆ ---        ┆ ---      ┆   ┆ ---      ┆ ---        ┆ ---       ┆ ng        │\n",
      "│ str     ┆ str        ┆ i64        ┆ str      ┆   ┆ f64      ┆ f64        ┆ f64       ┆ ---       │\n",
      "│         ┆            ┆            ┆          ┆   ┆          ┆            ┆           ┆ f64       │\n",
      "╞═════════╪════════════╪════════════╪══════════╪═══╪══════════╪════════════╪═══════════╪═══════════╡\n",
      "│ S782061 ┆ /mnt/nuc/c ┆ 229        ┆ vil      ┆ … ┆ 384000.0 ┆ 0.0        ┆ 254.0     ┆ 0.0       │\n",
      "│         ┆ /sevir/dat ┆            ┆          ┆   ┆          ┆            ┆           ┆           │\n",
      "│         ┆ a/vil/2018 ┆            ┆          ┆   ┆          ┆            ┆           ┆           │\n",
      "│         ┆ /S…        ┆            ┆          ┆   ┆          ┆            ┆           ┆           │\n",
      "│ S782061 ┆ /mnt/nuc/c ┆ 239        ┆ ir107    ┆ … ┆ 384000.0 ┆ -83.829651 ┆ 28.673054 ┆ 0.0       │\n",
      "│         ┆ /sevir/dat ┆            ┆          ┆   ┆          ┆            ┆           ┆           │\n",
      "│         ┆ a/ir107/20 ┆            ┆          ┆   ┆          ┆            ┆           ┆           │\n",
      "│         ┆ 18…        ┆            ┆          ┆   ┆          ┆            ┆           ┆           │\n",
      "│ S782061 ┆ /mnt/nuc/c ┆ 239        ┆ ir069    ┆ … ┆ 384000.0 ┆ -84.724297 ┆ -19.43801 ┆ 0.0       │\n",
      "│         ┆ /sevir/dat ┆            ┆          ┆   ┆          ┆            ┆ 9         ┆           │\n",
      "│         ┆ a/ir069/20 ┆            ┆          ┆   ┆          ┆            ┆           ┆           │\n",
      "│         ┆ 18…        ┆            ┆          ┆   ┆          ┆            ┆           ┆           │\n",
      "└─────────┴────────────┴────────────┴──────────┴───┴──────────┴────────────┴───────────┴───────────┘\n"
     ]
    },
    {
     "name": "stderr",
     "output_type": "stream",
     "text": [
      "  0%|          | 2/12896 [00:00<1:31:18,  2.35it/s]"
     ]
    },
    {
     "name": "stdout",
     "output_type": "stream",
     "text": [
      "torch.Size([2, 1, 192, 192, 49]) torch.Size([1, 1, 384, 384, 49])\n",
      "shape: (3, 21)\n",
      "┌────────────┬───────────┬───────────┬──────────┬───┬──────────┬───────────┬───────────┬───────────┐\n",
      "│ id         ┆ file_name ┆ file_inde ┆ img_type ┆ … ┆ width_m  ┆ data_min  ┆ data_max  ┆ pct_missi │\n",
      "│ ---        ┆ ---       ┆ x         ┆ ---      ┆   ┆ ---      ┆ ---       ┆ ---       ┆ ng        │\n",
      "│ str        ┆ str       ┆ ---       ┆ str      ┆   ┆ f64      ┆ f64       ┆ f64       ┆ ---       │\n",
      "│            ┆           ┆ i64       ┆          ┆   ┆          ┆           ┆           ┆ f64       │\n",
      "╞════════════╪═══════════╪═══════════╪══════════╪═══╪══════════╪═══════════╪═══════════╪═══════════╡\n",
      "│ R191124214 ┆ /mnt/nuc/ ┆ 1547      ┆ vil      ┆ … ┆ 384000.0 ┆ 0.0       ┆ 192.0     ┆ 0.0       │\n",
      "│ 88363      ┆ c/sevir/d ┆           ┆          ┆   ┆          ┆           ┆           ┆           │\n",
      "│            ┆ ata/vil/2 ┆           ┆          ┆   ┆          ┆           ┆           ┆           │\n",
      "│            ┆ 019/S…    ┆           ┆          ┆   ┆          ┆           ┆           ┆           │\n",
      "│ R191124214 ┆ /mnt/nuc/ ┆ 248       ┆ ir107    ┆ … ┆ 384000.0 ┆ -52.76910 ┆ 9.35456   ┆ 0.0       │\n",
      "│ 88363      ┆ c/sevir/d ┆           ┆          ┆   ┆          ┆ 4         ┆           ┆           │\n",
      "│            ┆ ata/ir107 ┆           ┆          ┆   ┆          ┆           ┆           ┆           │\n",
      "│            ┆ /2019…    ┆           ┆          ┆   ┆          ┆           ┆           ┆           │\n",
      "│ R191124214 ┆ /mnt/nuc/ ┆ 256       ┆ ir069    ┆ … ┆ 384000.0 ┆ -53.51208 ┆ -15.66573 ┆ 0.0       │\n",
      "│ 88363      ┆ c/sevir/d ┆           ┆          ┆   ┆          ┆ 1         ┆ 3         ┆           │\n",
      "│            ┆ ata/ir069 ┆           ┆          ┆   ┆          ┆           ┆           ┆           │\n",
      "│            ┆ /2019…    ┆           ┆          ┆   ┆          ┆           ┆           ┆           │\n",
      "└────────────┴───────────┴───────────┴──────────┴───┴──────────┴───────────┴───────────┴───────────┘\n"
     ]
    },
    {
     "name": "stderr",
     "output_type": "stream",
     "text": [
      "  0%|          | 2/12896 [00:01<2:13:19,  1.61it/s]\n",
      "INFO:root:Closing SEVIRstoreHDF5\n"
     ]
    },
    {
     "name": "stdout",
     "output_type": "stream",
     "text": [
      "torch.Size([2, 1, 192, 192, 49]) torch.Size([1, 1, 384, 384, 49])\n"
     ]
    }
   ],
   "source": [
    "inputs = sevir.IR_069, sevir.IR_107\n",
    "features = (sevir.VIL,)\n",
    "cat = sevir.Catalog(img_types=inputs + features)\n",
    "# this is effectively a Generator[pytorch.data.IterableDataset[tuple[Tensor, Tensor]]]\n",
    "# using the session as a context manager will close the h5 store when you're done\n",
    "with sevir.SEVIRGenerator(cat, inputs=inputs, features=features).session() as gen:\n",
    "    for i, ((x, y), df) in enumerate(gen.iter_batches(metadata=True)):\n",
    "        print(x.shape, y.shape)\n",
    "        if i == 2:\n",
    "            break\n",
    "        print(df)"
   ]
  }
 ],
 "metadata": {
  "kernelspec": {
   "display_name": ".venv",
   "language": "python",
   "name": "python3"
  },
  "language_info": {
   "codemirror_mode": {
    "name": "ipython",
    "version": 3
   },
   "file_extension": ".py",
   "mimetype": "text/x-python",
   "name": "python",
   "nbconvert_exporter": "python",
   "pygments_lexer": "ipython3",
   "version": "3.10.6"
  },
  "orig_nbformat": 4
 },
 "nbformat": 4,
 "nbformat_minor": 2
}
