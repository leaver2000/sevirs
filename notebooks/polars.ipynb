{
 "cells": [
  {
   "cell_type": "code",
   "execution_count": 1,
   "metadata": {},
   "outputs": [
    {
     "data": {
      "text/html": [
       "\n",
       "                <script type=\"application/javascript\" id=\"jupyter_black\">\n",
       "                (function() {\n",
       "                    if (window.IPython === undefined) {\n",
       "                        return\n",
       "                    }\n",
       "                    var msg = \"WARNING: it looks like you might have loaded \" +\n",
       "                        \"jupyter_black in a non-lab notebook with \" +\n",
       "                        \"`is_lab=True`. Please double check, and if \" +\n",
       "                        \"loading with `%load_ext` please review the README!\"\n",
       "                    console.log(msg)\n",
       "                    alert(msg)\n",
       "                })()\n",
       "                </script>\n",
       "                "
      ],
      "text/plain": [
       "<IPython.core.display.HTML object>"
      ]
     },
     "metadata": {},
     "output_type": "display_data"
    }
   ],
   "source": [
    "%load_ext autoreload\n",
    "%autoreload 2\n",
    "%load_ext jupyter_black"
   ]
  },
  {
   "cell_type": "code",
   "execution_count": 2,
   "metadata": {},
   "outputs": [
    {
     "ename": "ModuleNotFoundError",
     "evalue": "No module named 'sevir'",
     "output_type": "error",
     "traceback": [
      "\u001b[0;31m---------------------------------------------------------------------------\u001b[0m",
      "\u001b[0;31mModuleNotFoundError\u001b[0m                       Traceback (most recent call last)",
      "Cell \u001b[0;32mIn[2], line 9\u001b[0m\n\u001b[1;32m      6\u001b[0m \u001b[39mimport\u001b[39;00m \u001b[39mpolars\u001b[39;00m \u001b[39mas\u001b[39;00m \u001b[39mpl\u001b[39;00m\n\u001b[1;32m      7\u001b[0m \u001b[39mimport\u001b[39;00m \u001b[39mpandas\u001b[39;00m \u001b[39mas\u001b[39;00m \u001b[39mpd\u001b[39;00m\n\u001b[0;32m----> 9\u001b[0m \u001b[39mimport\u001b[39;00m \u001b[39msevir\u001b[39;00m\n\u001b[1;32m     10\u001b[0m \u001b[39mfrom\u001b[39;00m \u001b[39msevir\u001b[39;00m\u001b[39m.\u001b[39;00m\u001b[39mconstants\u001b[39;00m \u001b[39mimport\u001b[39;00m DEFAULT_PATH_TO_SEVIR, DEFAULT_CATALOG, DEFAULT_DATA  \u001b[39m# import path info\u001b[39;00m\n\u001b[1;32m     11\u001b[0m \u001b[39mfrom\u001b[39;00m \u001b[39msevir\u001b[39;00m\u001b[39m.\u001b[39;00m\u001b[39mconstants\u001b[39;00m \u001b[39mimport\u001b[39;00m (\n\u001b[1;32m     12\u001b[0m     IMG_TYPE,\n\u001b[1;32m     13\u001b[0m     ID,\n\u001b[0;32m   (...)\u001b[0m\n\u001b[1;32m     19\u001b[0m     FILE_INDEX,\n\u001b[1;32m     20\u001b[0m )  \u001b[39m# import column names\u001b[39;00m\n",
      "\u001b[0;31mModuleNotFoundError\u001b[0m: No module named 'sevir'"
     ]
    }
   ],
   "source": [
    "from __future__ import annotations\n",
    "import os\n",
    "\n",
    "os.environ[\"PATH_TO_SEVIR\"] = \"/mnt/nuc/c/sevir\"  # you can set the default path via an environment variable\n",
    "\n",
    "import polars as pl\n",
    "import pandas as pd\n",
    "\n",
    "import sevir\n",
    "from sevir.constants import DEFAULT_PATH_TO_SEVIR, DEFAULT_CATALOG, DEFAULT_DATA  # import path info\n",
    "from sevir.constants import (\n",
    "    IMG_TYPE,\n",
    "    ID,\n",
    "    TIME_UTC,\n",
    "    EVENT_TYPE,\n",
    "    EVENT_ID,\n",
    "    EPISODE_ID,\n",
    "    FILE_NAME,\n",
    "    FILE_INDEX,\n",
    ")  # import column names\n",
    "\n",
    "SEVIR_CATALOG = os.path.join(DEFAULT_PATH_TO_SEVIR, DEFAULT_CATALOG)\n",
    "SEVIR_DATA = os.path.join(DEFAULT_PATH_TO_SEVIR, DEFAULT_DATA)\n",
    "assert os.path.exists(SEVIR_CATALOG) and os.path.exists(SEVIR_DATA)\n",
    "print(SEVIR_CATALOG, SEVIR_DATA)"
   ]
  },
  {
   "cell_type": "code",
   "execution_count": null,
   "metadata": {},
   "outputs": [],
   "source": [
    "%timeit pl.read_csv(SEVIR_CATALOG, use_pyarrow=True)\n",
    "%timeit pd.read_csv(SEVIR_CATALOG, low_memory=False)"
   ]
  },
  {
   "cell_type": "markdown",
   "metadata": {},
   "source": [
    "# reading data with polars"
   ]
  },
  {
   "cell_type": "code",
   "execution_count": null,
   "metadata": {},
   "outputs": [],
   "source": [
    "df = pl.read_csv(\n",
    "    SEVIR_CATALOG,\n",
    "    dtypes={ID: pl.Utf8, FILE_NAME: pl.Utf8, IMG_TYPE: pl.Utf8, TIME_UTC: pl.Datetime},\n",
    "    use_pyarrow=True,\n",
    ")\n",
    "df.head()"
   ]
  },
  {
   "cell_type": "markdown",
   "metadata": {},
   "source": [
    "# Filtering unwanted rows"
   ]
  },
  {
   "cell_type": "code",
   "execution_count": null,
   "metadata": {},
   "outputs": [],
   "source": [
    "img_types = [\"vis\", \"ir069\"]\n",
    "df = df.filter(df[IMG_TYPE].is_in(img_types))\n",
    "assert df[IMG_TYPE].n_unique() == len(set(img_types))\n",
    "count = df.groupby(ID).count()\n",
    "f_ids = count.filter(count[\"count\"] >= len(img_types))[ID]\n",
    "df = df.filter(df[ID].is_in(f_ids))\n",
    "df.head()"
   ]
  },
  {
   "cell_type": "markdown",
   "metadata": {},
   "source": [
    "The read function in the catalog module does some filtering and preprocessing to the data. To create absolute paths\n",
    "exits to prevent downstream issues."
   ]
  },
  {
   "cell_type": "code",
   "execution_count": null,
   "metadata": {},
   "outputs": [],
   "source": [
    "from sevir.constants import VIS, IR_069, IR_107\n",
    "\n",
    "sevir.catalog.read(SEVIR_CATALOG, SEVIR_DATA, img_types=[VIS, IR_069, IR_107]).head()"
   ]
  }
 ],
 "metadata": {
  "kernelspec": {
   "display_name": ".venv",
   "language": "python",
   "name": "python3"
  },
  "language_info": {
   "codemirror_mode": {
    "name": "ipython",
    "version": 3
   },
   "file_extension": ".py",
   "mimetype": "text/x-python",
   "name": "python",
   "nbconvert_exporter": "python",
   "pygments_lexer": "ipython3",
   "version": "3.10.6"
  },
  "orig_nbformat": 4
 },
 "nbformat": 4,
 "nbformat_minor": 2
}
