{
 "cells": [
  {
   "cell_type": "code",
   "execution_count": 1,
   "metadata": {},
   "outputs": [
    {
     "data": {
      "text/html": [
       "\n",
       "                <script type=\"application/javascript\" id=\"jupyter_black\">\n",
       "                (function() {\n",
       "                    if (window.IPython === undefined) {\n",
       "                        return\n",
       "                    }\n",
       "                    var msg = \"WARNING: it looks like you might have loaded \" +\n",
       "                        \"jupyter_black in a non-lab notebook with \" +\n",
       "                        \"`is_lab=True`. Please double check, and if \" +\n",
       "                        \"loading with `%load_ext` please review the README!\"\n",
       "                    console.log(msg)\n",
       "                    alert(msg)\n",
       "                })()\n",
       "                </script>\n",
       "                "
      ],
      "text/plain": [
       "<IPython.core.display.HTML object>"
      ]
     },
     "metadata": {},
     "output_type": "display_data"
    }
   ],
   "source": [
    "%load_ext autoreload\n",
    "%autoreload 2\n",
    "%load_ext jupyter_black\n",
    "%matplotlib inline\n",
    "import os\n",
    "\n",
    "os.environ[\"PATH_TO_SEVIR\"] = \"/mnt/data/sevir\"  # you can set the default path via an environment variable\n",
    "import sevir as sevir\n",
    "from sevir.constants import VIS, IR_069, VIL, IR_107, LGHT"
   ]
  },
  {
   "cell_type": "markdown",
   "metadata": {},
   "source": [
    "# TensorGenerator\n",
    "\n",
    "The tensor generator will automatically create the catalog if one was not provided.\n",
    "If you want to do some more filtering of the catalog data prior to creating the tensor\n",
    "generator, it accepts a catalog as as the first argument.\n",
    "\n",
    "This generator will split the catalog by the provided image types, a patch size argument,\n",
    "can also be passed to interpolate the LxW of the image. So that the multiple images can \n",
    "fit into a single tensor.\n",
    "\n"
   ]
  },
  {
   "cell_type": "code",
   "execution_count": 2,
   "metadata": {},
   "outputs": [
    {
     "name": "stderr",
     "output_type": "stream",
     "text": [
      "INFO:root:Loading 101 files with 3 image types.\n",
      "100%|██████████| 101/101 [00:02<00:00, 35.99it/s]\n",
      "INFO:root:Loading 10 files with 1 image types.\n",
      "100%|██████████| 10/10 [00:00<00:00, 38.04it/s]\n",
      "INFO:root:🏪 Closing Store 🏪\n"
     ]
    },
    {
     "name": "stdout",
     "output_type": "stream",
     "text": [
      "torch.Size([C,   L,   W,  T])\n",
      "torch.Size([3, 768, 768, 49])\n",
      "torch.Size([1, 768, 768, 49])\n"
     ]
    },
    {
     "data": {
      "text/html": [
       "<div><style>\n",
       ".dataframe > thead > tr > th,\n",
       ".dataframe > tbody > tr > td {\n",
       "  text-align: right;\n",
       "}\n",
       "</style>\n",
       "<small>shape: (4, 22)</small><table border=\"1\" class=\"dataframe\"><thead><tr><th>id</th><th>file_name</th><th>file_index</th><th>img_type</th><th>time_utc</th><th>minute_offsets</th><th>episode_id</th><th>event_id</th><th>event_type</th><th>llcrnrlat</th><th>llcrnrlon</th><th>urcrnrlat</th><th>urcrnrlon</th><th>proj</th><th>size_x</th><th>size_y</th><th>height_m</th><th>width_m</th><th>data_min</th><th>data_max</th><th>pct_missing</th><th>file_ref</th></tr><tr><td>str</td><td>str</td><td>i64</td><td>str</td><td>datetime[μs]</td><td>str</td><td>f64</td><td>f64</td><td>str</td><td>f64</td><td>f64</td><td>f64</td><td>f64</td><td>str</td><td>i64</td><td>i64</td><td>f64</td><td>f64</td><td>f64</td><td>f64</td><td>f64</td><td>i32</td></tr></thead><tbody><tr><td>&quot;R1908262019742…</td><td>&quot;/mnt/data/sevi…</td><td>564</td><td>&quot;ir069&quot;</td><td>2019-08-26 20:19:00</td><td>&quot;-120:-115:-110…</td><td>null</td><td>null</td><td>null</td><td>28.845626</td><td>-87.997107</td><td>31.833639</td><td>-83.559175</td><td>&quot;+proj=laea +la…</td><td>192</td><td>192</td><td>384000.0</td><td>384000.0</td><td>-76.769867</td><td>-22.281887</td><td>0.0</td><td>81</td></tr><tr><td>&quot;R1908262019742…</td><td>&quot;/mnt/data/sevi…</td><td>564</td><td>&quot;ir107&quot;</td><td>2019-08-26 20:19:00</td><td>&quot;-120:-115:-110…</td><td>null</td><td>null</td><td>null</td><td>28.845626</td><td>-87.997107</td><td>31.833639</td><td>-83.559175</td><td>&quot;+proj=laea +la…</td><td>192</td><td>192</td><td>384000.0</td><td>384000.0</td><td>-76.141235</td><td>23.99688</td><td>0.0</td><td>31</td></tr><tr><td>&quot;R1908262019742…</td><td>&quot;/mnt/data/sevi…</td><td>150</td><td>&quot;vis&quot;</td><td>2019-08-26 20:19:00</td><td>&quot;-120:-115:-110…</td><td>null</td><td>null</td><td>null</td><td>28.845626</td><td>-87.997107</td><td>31.833639</td><td>-83.559175</td><td>&quot;+proj=laea +la…</td><td>768</td><td>768</td><td>384000.0</td><td>384000.0</td><td>0.012209</td><td>1.214073</td><td>0.00181</td><td>68</td></tr><tr><td>&quot;R1908262019742…</td><td>&quot;/mnt/data/sevi…</td><td>766</td><td>&quot;vil&quot;</td><td>2019-08-26 20:19:35</td><td>&quot;-120:-115:-110…</td><td>null</td><td>null</td><td>null</td><td>28.845626</td><td>-87.997107</td><td>31.833639</td><td>-83.559175</td><td>&quot;+proj=laea +la…</td><td>384</td><td>384</td><td>384000.0</td><td>384000.0</td><td>0.0</td><td>247.0</td><td>0.0</td><td>0</td></tr></tbody></table></div>"
      ],
      "text/plain": [
       "shape: (4, 22)\n",
       "┌────────────┬───────────┬───────────┬──────────┬───┬───────────┬───────────┬───────────┬──────────┐\n",
       "│ id         ┆ file_name ┆ file_inde ┆ img_type ┆ … ┆ data_min  ┆ data_max  ┆ pct_missi ┆ file_ref │\n",
       "│ ---        ┆ ---       ┆ x         ┆ ---      ┆   ┆ ---       ┆ ---       ┆ ng        ┆ ---      │\n",
       "│ str        ┆ str       ┆ ---       ┆ str      ┆   ┆ f64       ┆ f64       ┆ ---       ┆ i32      │\n",
       "│            ┆           ┆ i64       ┆          ┆   ┆           ┆           ┆ f64       ┆          │\n",
       "╞════════════╪═══════════╪═══════════╪══════════╪═══╪═══════════╪═══════════╪═══════════╪══════════╡\n",
       "│ R190826201 ┆ /mnt/data ┆ 564       ┆ ir069    ┆ … ┆ -76.76986 ┆ -22.28188 ┆ 0.0       ┆ 81       │\n",
       "│ 97425      ┆ /sevir/da ┆           ┆          ┆   ┆ 7         ┆ 7         ┆           ┆          │\n",
       "│            ┆ ta/ir069/ ┆           ┆          ┆   ┆           ┆           ┆           ┆          │\n",
       "│            ┆ 2019/…    ┆           ┆          ┆   ┆           ┆           ┆           ┆          │\n",
       "│ R190826201 ┆ /mnt/data ┆ 564       ┆ ir107    ┆ … ┆ -76.14123 ┆ 23.99688  ┆ 0.0       ┆ 31       │\n",
       "│ 97425      ┆ /sevir/da ┆           ┆          ┆   ┆ 5         ┆           ┆           ┆          │\n",
       "│            ┆ ta/ir107/ ┆           ┆          ┆   ┆           ┆           ┆           ┆          │\n",
       "│            ┆ 2019/…    ┆           ┆          ┆   ┆           ┆           ┆           ┆          │\n",
       "│ R190826201 ┆ /mnt/data ┆ 150       ┆ vis      ┆ … ┆ 0.012209  ┆ 1.214073  ┆ 0.00181   ┆ 68       │\n",
       "│ 97425      ┆ /sevir/da ┆           ┆          ┆   ┆           ┆           ┆           ┆          │\n",
       "│            ┆ ta/vis/20 ┆           ┆          ┆   ┆           ┆           ┆           ┆          │\n",
       "│            ┆ 19/SE…    ┆           ┆          ┆   ┆           ┆           ┆           ┆          │\n",
       "│ R190826201 ┆ /mnt/data ┆ 766       ┆ vil      ┆ … ┆ 0.0       ┆ 247.0     ┆ 0.0       ┆ 0        │\n",
       "│ 97425      ┆ /sevir/da ┆           ┆          ┆   ┆           ┆           ┆           ┆          │\n",
       "│            ┆ ta/vil/20 ┆           ┆          ┆   ┆           ┆           ┆           ┆          │\n",
       "│            ┆ 19/SE…    ┆           ┆          ┆   ┆           ┆           ┆           ┆          │\n",
       "└────────────┴───────────┴───────────┴──────────┴───┴───────────┴───────────┴───────────┴──────────┘"
      ]
     },
     "execution_count": 2,
     "metadata": {},
     "output_type": "execute_result"
    }
   ],
   "source": [
    "# the generator will reshape the  height and width to the largest of the batch by default\n",
    "with sevir.TensorGenerator(inputs=(IR_069, IR_107, VIS), features=(VIL,)) as tg:\n",
    "    (x, y), df = tg.select(\"R19082620197425\", metadata=True)\n",
    "    print(\"torch.Size([C,   L,   W,  T])\", x.shape, y.shape, sep=\"\\n\")\n",
    "\n",
    "df"
   ]
  },
  {
   "cell_type": "code",
   "execution_count": 3,
   "metadata": {},
   "outputs": [
    {
     "name": "stderr",
     "output_type": "stream",
     "text": [
      "INFO:root:Loading 101 files with 3 image types.\n",
      "100%|██████████| 101/101 [00:01<00:00, 86.27it/s]\n",
      "INFO:root:Loading 10 files with 1 image types.\n",
      "100%|██████████| 10/10 [00:00<00:00, 72.08it/s]\n",
      "INFO:root:⛈️ Beginning Tensor Generation ⛈️\n",
      "  0%|          | 4/12741 [00:11<9:44:44,  2.75s/it]\n",
      "INFO:root:🏪 Closing Store 🏪\n"
     ]
    },
    {
     "name": "stdout",
     "output_type": "stream",
     "text": [
      "torch.Size([B, C,  X,  Y,  T])\n",
      "torch.Size([5, 3, 48, 48, 49])\n",
      "torch.Size([5, 1, 48, 48, 49])\n"
     ]
    }
   ],
   "source": [
    "with sevir.TensorLoader(\n",
    "    sevir.TensorGenerator(inputs=(IR_069, IR_107, VIS), features=(VIL,), patch_size=48),\n",
    "    batch_size=5,\n",
    ") as loader:\n",
    "    x, y = next(iter(loader))\n",
    "    print(\"torch.Size([B, C,  X,  Y,  T])\", x.shape, y.shape, sep=\"\\n\")"
   ]
  }
 ],
 "metadata": {
  "kernelspec": {
   "display_name": ".venv",
   "language": "python",
   "name": "python3"
  },
  "language_info": {
   "codemirror_mode": {
    "name": "ipython",
    "version": 3
   },
   "file_extension": ".py",
   "mimetype": "text/x-python",
   "name": "python",
   "nbconvert_exporter": "python",
   "pygments_lexer": "ipython3",
   "version": "3.10.12"
  },
  "orig_nbformat": 4
 },
 "nbformat": 4,
 "nbformat_minor": 2
}
