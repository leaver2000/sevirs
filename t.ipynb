{
 "cells": [
  {
   "cell_type": "code",
   "execution_count": 1,
   "metadata": {},
   "outputs": [
    {
     "data": {
      "text/plain": [
       "array([[21, 27, 40, ..., 74, 20, 94],\n",
       "       [30, 23, 49, ..., 44,  2, 99],\n",
       "       [54, 79, 95, ..., 45, 53, 70],\n",
       "       ...,\n",
       "       [47, 54, 59, ..., 43, 86, 38],\n",
       "       [85,  1, 81, ...,  2, 50,  6],\n",
       "       [34, 58, 97, ..., 41, 44,  3]])"
      ]
     },
     "execution_count": 1,
     "metadata": {},
     "output_type": "execute_result"
    }
   ],
   "source": [
    "import numpy as np\n",
    "import pyarrow as pa\n",
    "import string\n",
    "import itertools\n",
    "columns = list(map(\"\".join,itertools.permutations(string.ascii_lowercase[:5], 2)))\n",
    "N = len(columns)\n",
    "L, W, C, T = 256, 256, 5, 49\n",
    "arr = np.random.randint(0, 100, (L, W, C, T))\n",
    "data = {key:arr for key in columns}\n",
    "arr[:,:,0,0]"
   ]
  },
  {
   "cell_type": "code",
   "execution_count": 2,
   "metadata": {},
   "outputs": [],
   "source": [
    "import h5py\n",
    "\n",
    "with h5py.File('t.h5', 'w') as f:\n",
    "    f.create_dataset('a', data=arr)"
   ]
  },
  {
   "cell_type": "code",
   "execution_count": null,
   "metadata": {},
   "outputs": [],
   "source": [
    "with h5py.File('t.h5', 'r') as f:\n",
    "    print(f['/a/b/c'][...])"
   ]
  }
 ],
 "metadata": {
  "kernelspec": {
   "display_name": ".venv",
   "language": "python",
   "name": "python3"
  },
  "language_info": {
   "codemirror_mode": {
    "name": "ipython",
    "version": 3
   },
   "file_extension": ".py",
   "mimetype": "text/x-python",
   "name": "python",
   "nbconvert_exporter": "python",
   "pygments_lexer": "ipython3",
   "version": "3.10.12"
  },
  "orig_nbformat": 4
 },
 "nbformat": 4,
 "nbformat_minor": 2
}
